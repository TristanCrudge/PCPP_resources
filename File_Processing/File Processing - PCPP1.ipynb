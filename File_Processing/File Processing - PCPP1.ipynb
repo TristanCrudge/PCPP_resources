{
 "cells": [
  {
   "cell_type": "markdown",
   "id": "85bb1452",
   "metadata": {},
   "source": [
    "# File processing in python \n",
    "## Somewhat aligned to the PCPP1 exam\n",
    "##### TODO: add table of contents\n",
    "##### Reading this top to bottom is the best way of reading"
   ]
  },
  {
   "cell_type": "code",
   "execution_count": 1,
   "id": "859ea2be",
   "metadata": {},
   "outputs": [],
   "source": [
    "import csv \n",
    "import xml, xml.etree.ElementTree as et\n",
    "import sqlite3\n",
    "import json\n",
    "import logging\n",
    "import os\n",
    "import configparser\n",
    "from io import StringIO"
   ]
  },
  {
   "cell_type": "code",
   "execution_count": 2,
   "id": "7ce87ac4",
   "metadata": {},
   "outputs": [],
   "source": [
    "# Helper to produce a list of attribs and values if not dunder\n",
    "def get_object_attributes(obj):\n",
    "    [print(fr'{type(obj)}: {i}: {getattr(obj,i)}',end ='\\n') for i in dir(obj) if not i.startswith('_')]"
   ]
  },
  {
   "cell_type": "markdown",
   "id": "d2650f2e",
   "metadata": {},
   "source": [
    "## CSV module exploration\n",
    "#### Exploring module functionality\n",
    "\n",
    "1. [Reader](http://localhost:8888/notebooks/File%20Processing%20-%20PCPP1.ipynb#CSV-Reader)\n",
    "2. [DictReader](http://localhost:8888/notebooks/File%20Processing%20-%20PCPP1.ipynb#CSV-Dict-Reader)\n",
    "\n",
    "- [Pep for CSV file API](https://peps.python.org/pep-0305/)\n",
    "- [List of Kwargs](https://docs.python.org/3/library/csv.html#csv-fmt-params) to pass in"
   ]
  },
  {
   "cell_type": "markdown",
   "id": "1ea1e43b",
   "metadata": {},
   "source": [
    "### CSV Reader\n",
    "\n",
    "- Escapechar will be treated as escape and will void the char in any string unless escaped with the delim.\n",
    "    - `escapechar = 'r' ~ 'mothe,222-555-101' 'mothe-in-law','222-555-104'`\n",
    "    - `escapechar = '' ~ 'mother', '222-555-101' 'mother-in-law', '222-555-104'`\n",
    "- [`lineterminator`](https://docs.python.org/3/library/csv.html#csv.Dialect.lineterminator) is ignored"
   ]
  },
  {
   "cell_type": "code",
   "execution_count": 14,
   "id": "dc4dc362",
   "metadata": {},
   "outputs": [
    {
     "name": "stdout",
     "output_type": "stream",
     "text": [
      "['Name', 'Phone']\n",
      "['mother', '222-555-101']\n",
      "['father', '222-555-102']\n",
      "['wife', '222-555-103']\n",
      "['mother-in-law', '222-555-104']\n",
      "\n",
      "ATTRIBUTES:\n",
      "<class '_csv.Dialect'>: delimiter: ,\n",
      "<class '_csv.Dialect'>: doublequote: True\n",
      "<class '_csv.Dialect'>: escapechar: None\n",
      "<class '_csv.Dialect'>: lineterminator: \r\n",
      "\n",
      "<class '_csv.Dialect'>: quotechar: \"\n",
      "<class '_csv.Dialect'>: quoting: 0\n",
      "<class '_csv.Dialect'>: skipinitialspace: False\n",
      "<class '_csv.Dialect'>: strict: False\n",
      "<class '_csv.reader'>: dialect: <_csv.Dialect object at 0x105ddf960>\n",
      "<class '_csv.reader'>: line_num: 5\n"
     ]
    }
   ],
   "source": [
    "csv_file = 'Downloads/contacts.csv'\n",
    "with open(csv_file) as f:\n",
    "    reader = csv.reader(f,delimiter = ',', doublequote = csv.QUOTE_NONE)\n",
    "\n",
    "    for row in reader:\n",
    "        print(row)\n",
    "print('\\nATTRIBUTES:')\n",
    "get_object_attributes(reader.dialect)\n",
    "get_object_attributes(reader)"
   ]
  },
  {
   "cell_type": "markdown",
   "id": "2a75cc12",
   "metadata": {},
   "source": [
    "### CSV Dict Reader\n",
    "\n",
    "- Reads a csv and returns a dict object\n",
    "- Takes header as field names if None.\n",
    "- Field names are positional."
   ]
  },
  {
   "cell_type": "code",
   "execution_count": 17,
   "id": "0223fd1d",
   "metadata": {},
   "outputs": [
    {
     "name": "stdout",
     "output_type": "stream",
     "text": [
      "<class 'csv.DictReader'>: dialect: excel\n",
      "<class 'csv.DictReader'>: fieldnames: ['asdfasd', 'dfgsdfgd', 'tristan']\n",
      "<class 'csv.DictReader'>: line_num: 0\n",
      "<class 'csv.DictReader'>: reader: <_csv.reader object at 0x1065c0510>\n",
      "<class 'csv.DictReader'>: restkey: None\n",
      "<class 'csv.DictReader'>: restval: None\n",
      "\n",
      "{'asdfasd': 'mother', 'dfgsdfgd': '222-555-101', 'tristan': None}\n",
      "{'asdfasd': 'father', 'dfgsdfgd': '222-555-102', 'tristan': None}\n",
      "{'asdfasd': 'wife', 'dfgsdfgd': '222-555-103', 'tristan': None}\n",
      "{'asdfasd': 'mother-in-law', 'dfgsdfgd': '222-555-104', 'tristan': None}\n"
     ]
    }
   ],
   "source": [
    "csv_file = 'Downloads/contacts.csv'\n",
    "with open(csv_file) as f:\n",
    "    reader = csv.DictReader(f,fieldnames=['asdfasd','dfgsdfgd','tristan'])\n",
    "    get_object_attributes(reader)\n",
    "    print()\n",
    "    for row in reader:\n",
    "        if reader.line_num == 1:\n",
    "            continue\n",
    "        else:\n",
    "            print(row)"
   ]
  },
  {
   "cell_type": "markdown",
   "id": "e70f6768",
   "metadata": {},
   "source": [
    "### CSV Writer\n",
    "\n",
    "- [Docs](https://docs.python.org/3/library/csv.html#writer-objects)\n",
    "- Takes an iterable and writes to a file.\n",
    "- `writerows` will take nested iterables [['a','b'],['x','y']]\n",
    "- `writerow` will take a single iterable or nested iterables, but a nested iterable will be written on a single line. ['a','b']"
   ]
  },
  {
   "cell_type": "code",
   "execution_count": null,
   "id": "669020f5",
   "metadata": {},
   "outputs": [],
   "source": [
    "dummy_string = '''first_name,last_name,age\n",
    "tristan, crudge, 32\n",
    "roman, gravitas,78\n",
    "youthful, penguin, 67'''\n",
    "\n",
    "dummy_iterdict = [{'first_name':'Gertrude','last_name':'Bertrude','age':34},{'first_name':'Thertrude','last_name':'Blertrude','age':48}]\n",
    "dummy_iterlist = [['jeremy','waterhouse-manfried-the-fourth','1'],['golfy','mcWagon',None]]\n",
    "dummy_itertuple = (('Dr','Cabbage',54),('Dr','Babbage',234))"
   ]
  },
  {
   "cell_type": "code",
   "execution_count": null,
   "id": "844dbed8",
   "metadata": {},
   "outputs": [],
   "source": [
    "# Write rows\n",
    "with open('sample.csv','w') as csv_out:\n",
    "    writer = csv.writer(csv_out)\n",
    "    writer.writerows([row.split(',') for row in dummy_string.splitlines()])\n",
    "    writer.writerows([d.values() for d in dummy_iterdict])\n",
    "get_object_attributes(writer)"
   ]
  },
  {
   "cell_type": "code",
   "execution_count": null,
   "id": "d0eb5b55",
   "metadata": {},
   "outputs": [],
   "source": [
    "# Write row \n",
    "with open('sample.csv','a') as csv_out:\n",
    "    writer = csv.writer(csv_out)\n",
    "    for i in dummy_iterlist:\n",
    "        writer.writerow(i)\n",
    "with open('sample.csv','a') as csv_out:\n",
    "    writer = csv.writer(csv_out)\n",
    "    for i in dummy_itertuple:\n",
    "        writer.writerow(i)"
   ]
  },
  {
   "cell_type": "markdown",
   "id": "9fd719e4",
   "metadata": {},
   "source": [
    "### CSV DictWriter\n",
    "\n",
    "- Takes a dict and writes to a file\n",
    "- `fieldnames` is required for `DictWriter`\n",
    "- Can omit `writeheader` if column headers is the first in the iterable. Else inferred from the iterable\n",
    "- `writerows` can take a list of dicts\n",
    "- `writerow` can only take a dict"
   ]
  },
  {
   "cell_type": "code",
   "execution_count": null,
   "id": "2ea5ccd0",
   "metadata": {},
   "outputs": [],
   "source": [
    "with open('sample_b.csv','w') as out_csv:\n",
    "    field_names = ['first_name','last_name','age']\n",
    "    writer = csv.DictWriter(out_csv,fieldnames=field_names)\n",
    "    writer.writeheader()\n",
    "    writer.writerows(dummy_iterdict)\n",
    "get_object_attributes(writer)"
   ]
  },
  {
   "cell_type": "code",
   "execution_count": null,
   "id": "b4de2f31",
   "metadata": {},
   "outputs": [],
   "source": [
    "with open('sample_c.csv','w') as out_csv:\n",
    "    field_names = ['first_name','last_name','age']\n",
    "    writer = csv.DictWriter(out_csv,fieldnames=field_names)\n",
    "    writer.writeheader()\n",
    "    writer.writerow(dummy_iterdict) #will fail as passing an iterable when dict expected."
   ]
  },
  {
   "cell_type": "code",
   "execution_count": null,
   "id": "7cdbcdb8",
   "metadata": {
    "scrolled": true
   },
   "outputs": [],
   "source": [
    "get_object_attributes(csv)"
   ]
  },
  {
   "cell_type": "markdown",
   "id": "7582ef3e",
   "metadata": {},
   "source": [
    "## XML Processing"
   ]
  },
  {
   "cell_type": "code",
   "execution_count": 1,
   "id": "effed5c7",
   "metadata": {},
   "outputs": [],
   "source": [
    "xml_file = 'downloads/forecast.xml'"
   ]
  },
  {
   "cell_type": "code",
   "execution_count": 12,
   "id": "5947c43a",
   "metadata": {},
   "outputs": [],
   "source": [
    "import xml.etree.ElementTree as et"
   ]
  },
  {
   "cell_type": "code",
   "execution_count": 14,
   "id": "d6cd4aae",
   "metadata": {},
   "outputs": [
    {
     "data": {
      "text/plain": [
       "<xml.etree.ElementTree.ElementTree at 0x10d2ec890>"
      ]
     },
     "execution_count": 14,
     "metadata": {},
     "output_type": "execute_result"
    }
   ],
   "source": [
    "et.parse(xml_file).getroot()"
   ]
  },
  {
   "cell_type": "code",
   "execution_count": 13,
   "id": "6565f3a1",
   "metadata": {},
   "outputs": [
    {
     "data": {
      "text/plain": [
       "['Comment',\n",
       " 'Element',\n",
       " 'ElementPath',\n",
       " 'ElementTree',\n",
       " 'HTML_EMPTY',\n",
       " 'PI',\n",
       " 'ParseError',\n",
       " 'ProcessingInstruction',\n",
       " 'QName',\n",
       " 'SubElement',\n",
       " 'TreeBuilder',\n",
       " 'VERSION',\n",
       " 'XML',\n",
       " 'XMLID',\n",
       " 'XMLParser',\n",
       " 'XMLPullParser',\n",
       " '_Element_Py',\n",
       " '_ListDataStream',\n",
       " '__all__',\n",
       " '__builtins__',\n",
       " '__cached__',\n",
       " '__doc__',\n",
       " '__file__',\n",
       " '__loader__',\n",
       " '__name__',\n",
       " '__package__',\n",
       " '__spec__',\n",
       " '_escape_attrib',\n",
       " '_escape_attrib_html',\n",
       " '_escape_cdata',\n",
       " '_get_writer',\n",
       " '_namespace_map',\n",
       " '_namespaces',\n",
       " '_raise_serialization_error',\n",
       " '_sentinel',\n",
       " '_serialize',\n",
       " '_serialize_html',\n",
       " '_serialize_text',\n",
       " '_serialize_xml',\n",
       " 'collections',\n",
       " 'contextlib',\n",
       " 'dump',\n",
       " 'fromstring',\n",
       " 'fromstringlist',\n",
       " 'io',\n",
       " 'iselement',\n",
       " 'iterparse',\n",
       " 'parse',\n",
       " 're',\n",
       " 'register_namespace',\n",
       " 'sys',\n",
       " 'tostring',\n",
       " 'tostringlist',\n",
       " 'warnings']"
      ]
     },
     "execution_count": 13,
     "metadata": {},
     "output_type": "execute_result"
    }
   ],
   "source": [
    "dir(et)\n"
   ]
  },
  {
   "cell_type": "code",
   "execution_count": null,
   "id": "5e2a2173",
   "metadata": {},
   "outputs": [],
   "source": [
    "\n"
   ]
  }
 ],
 "metadata": {
  "kernelspec": {
   "display_name": "Python 3 (ipykernel)",
   "language": "python",
   "name": "python3"
  },
  "language_info": {
   "codemirror_mode": {
    "name": "ipython",
    "version": 3
   },
   "file_extension": ".py",
   "mimetype": "text/x-python",
   "name": "python",
   "nbconvert_exporter": "python",
   "pygments_lexer": "ipython3",
   "version": "3.7.13"
  }
 },
 "nbformat": 4,
 "nbformat_minor": 5
}
