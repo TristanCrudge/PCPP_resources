{
 "cells": [
  {
   "cell_type": "markdown",
   "id": "ff5f98f0",
   "metadata": {},
   "source": [
    "# PCPP - Advanced OOP\n",
    "\n",
    "### Go over the modules and topics in the course, with an emphasis on answers on the quizzes"
   ]
  },
  {
   "cell_type": "markdown",
   "id": "83646900",
   "metadata": {},
   "source": [
    "## Duck Typing\n",
    "\n",
    "#### It's a type system\n",
    "\n",
    "*'If it walks like a duck and quacks like a duck, then it must be a duck;'* will accompany the phrase duck typing.\n",
    "Really what this means is that you determine an object through it's methods and attributes rather than it's actual type. \n",
    "\n",
    "In the example below, you may determine an object of type 'duck' to possess both swim and fly methods. Therefore any other object with the same methods, would be considered of the same type. "
   ]
  },
  {
   "cell_type": "code",
   "execution_count": 34,
   "id": "fee8aa0f",
   "metadata": {},
   "outputs": [
    {
     "name": "stdout",
     "output_type": "stream",
     "text": [
      "Ima swimming Duck\n",
      "Ima flying Duck\n",
      "Ima swimming shark\n",
      "Ima flying shark\n",
      "Whale swimming\n"
     ]
    },
    {
     "ename": "AttributeError",
     "evalue": "'Whale' object has no attribute 'fly'",
     "output_type": "error",
     "traceback": [
      "\u001b[0;31m---------------------------------------------------------------------------\u001b[0m",
      "\u001b[0;31mAttributeError\u001b[0m                            Traceback (most recent call last)",
      "\u001b[0;32m/var/folders/df/6q_tm6qx2v582_dlhstvjzs00000gn/T/ipykernel_44491/1212546394.py\u001b[0m in \u001b[0;36m<module>\u001b[0;34m\u001b[0m\n\u001b[1;32m     21\u001b[0m \u001b[0;32mfor\u001b[0m \u001b[0manimal\u001b[0m \u001b[0;32min\u001b[0m \u001b[0;34m[\u001b[0m\u001b[0mDuck\u001b[0m\u001b[0;34m(\u001b[0m\u001b[0;34m)\u001b[0m\u001b[0;34m,\u001b[0m \u001b[0mShark\u001b[0m\u001b[0;34m(\u001b[0m\u001b[0;34m)\u001b[0m\u001b[0;34m,\u001b[0m \u001b[0mWhale\u001b[0m\u001b[0;34m(\u001b[0m\u001b[0;34m)\u001b[0m\u001b[0;34m]\u001b[0m\u001b[0;34m:\u001b[0m\u001b[0;34m\u001b[0m\u001b[0;34m\u001b[0m\u001b[0m\n\u001b[1;32m     22\u001b[0m     \u001b[0manimal\u001b[0m\u001b[0;34m.\u001b[0m\u001b[0mswim\u001b[0m\u001b[0;34m(\u001b[0m\u001b[0;34m)\u001b[0m\u001b[0;34m\u001b[0m\u001b[0;34m\u001b[0m\u001b[0m\n\u001b[0;32m---> 23\u001b[0;31m     \u001b[0manimal\u001b[0m\u001b[0;34m.\u001b[0m\u001b[0mfly\u001b[0m\u001b[0;34m(\u001b[0m\u001b[0;34m)\u001b[0m\u001b[0;34m\u001b[0m\u001b[0;34m\u001b[0m\u001b[0m\n\u001b[0m",
      "\u001b[0;31mAttributeError\u001b[0m: 'Whale' object has no attribute 'fly'"
     ]
    }
   ],
   "source": [
    "## An (extended) example stolen from wikipedia\n",
    "\n",
    "class Duck:\n",
    "    def swim(self):\n",
    "        print(\"Ima swimming Duck\")\n",
    "\n",
    "    def fly(self):\n",
    "        print(\"Ima flying Duck\")\n",
    "        \n",
    "class Shark:\n",
    "    def swim(self):\n",
    "        print(\"Ima swimming shark\")\n",
    "\n",
    "    def fly(self):\n",
    "        print(\"Ima flying shark\")\n",
    "\n",
    "class Whale:\n",
    "    def swim(self):\n",
    "        print(\"Whale swimming\")\n",
    "\n",
    "for animal in [Duck(), Shark(), Whale()]:\n",
    "    animal.swim()\n",
    "    animal.fly()"
   ]
  },
  {
   "cell_type": "code",
   "execution_count": 30,
   "id": "827bad70",
   "metadata": {},
   "outputs": [],
   "source": [
    "def show_implemented_methods(obj):\n",
    "    return list(filter(lambda x : not x.startswith('__'),dir(obj),))"
   ]
  },
  {
   "cell_type": "code",
   "execution_count": 44,
   "id": "65fe8dc1",
   "metadata": {},
   "outputs": [
    {
     "name": "stdout",
     "output_type": "stream",
     "text": [
      "Despite my type of Duck, my methods of: ['fly', 'swim'] determine I am in fact a duck\n",
      "Despite my type of Shark, my methods of: ['fly', 'swim'] determine I am in fact a duck\n",
      "My class of Whale does not qualify as a duck\n"
     ]
    }
   ],
   "source": [
    "for animal in [Duck(),Shark(),Whale()]:\n",
    "    if show_implemented_methods(animal) == ['fly','swim']:\n",
    "        print(f'Despite my type of {animal.__class__.__name__}, my methods of: {show_implemented_methods(animal)} determine I am in fact a duck')    \n",
    "    else:\n",
    "        print(f'My class of {animal.__class__.__name__} does not qualify as a duck')        "
   ]
  },
  {
   "cell_type": "markdown",
   "id": "117b2f05",
   "metadata": {},
   "source": [
    "### To use a more python relevant example\n",
    "Take an iterator. An iterator comes in various shapes and sizes and if you talk about iterators, you could potentially be referring to any number of object types. \n",
    "But in reality an iterator is typically defined by the existence of a single method, '__iter__'. \n",
    "\n",
    "By following the below example, we can check the natural type of an object and a sort of given psuedo alias type. \n",
    "\n",
    "ie \n",
    "- str is an iterator\n",
    "- int is not an iterator\n",
    "- list is an iterator"
   ]
  },
  {
   "cell_type": "code",
   "execution_count": 59,
   "id": "4fd64680",
   "metadata": {},
   "outputs": [
    {
     "name": "stdout",
     "output_type": "stream",
     "text": [
      "My natural type is 'LIST' but I have __iter__ and I am therefore an iterator;\n",
      "My natural type is 'SET' but I have __iter__ and I am therefore an iterator;\n",
      "My natural type is 'DICT' but I have __iter__ and I am therefore an iterator;\n",
      "My natural type is 'TUPLE' but I have __iter__ and I am therefore an iterator;\n",
      "My natural type is 'STR' but I have __iter__ and I am therefore an iterator;\n",
      "My natural type is 'INT' but I do not have __iter__ and I am therefore not an iterator;\n"
     ]
    }
   ],
   "source": [
    "iter_method = '__iter__'\n",
    "\n",
    "for i in [list, set, dict, tuple, str, int]:\n",
    "    if hasattr(i,iter_method):\n",
    "        print(f'My natural type is \\'{i.__name__.upper()}\\' but I have {iter_method} and I am therefore an iterator;')\n",
    "    else:\n",
    "        print(f'My natural type is \\'{i.__name__.upper()}\\' but I do not have {iter_method} and I am therefore not an iterator;')"
   ]
  }
 ],
 "metadata": {
  "kernelspec": {
   "display_name": "Python 3 (ipykernel)",
   "language": "python",
   "name": "python3"
  },
  "language_info": {
   "codemirror_mode": {
    "name": "ipython",
    "version": 3
   },
   "file_extension": ".py",
   "mimetype": "text/x-python",
   "name": "python",
   "nbconvert_exporter": "python",
   "pygments_lexer": "ipython3",
   "version": "3.7.13"
  }
 },
 "nbformat": 4,
 "nbformat_minor": 5
}
