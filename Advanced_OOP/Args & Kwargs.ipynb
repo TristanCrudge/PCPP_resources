{
 "cells": [
  {
   "cell_type": "markdown",
   "id": "a100e4e6",
   "metadata": {},
   "source": [
    "# Args and Kwargs\n",
    "\n",
    "### What they are, what they do and how to use them without needing a reminder in the future.\n",
    "\n",
    "So as an intro, they both do similar things. \n",
    "They enable the passing of arguments into a function.\n",
    "\n",
    "This is stipulated by the function signature, and whether or not it allows additional arguments however but in essence it means you can pass in any number of positional or named arguments into a function.\n",
    "\n",
    "The notation here is what is important: The '\\*' operator will store any number of additional (non-keyworded) arguments and the '\\*\\*' operator, will store any keyworded arguments.  \n",
    "\n",
    "\n",
    "Take the below function: It can accept only one argument and therefore any additional arguments passed to it will result in an error."
   ]
  },
  {
   "cell_type": "code",
   "execution_count": 1,
   "id": "194443e6",
   "metadata": {},
   "outputs": [],
   "source": [
    "def i_want_a_single_argument(my_single_argument):\n",
    "    print(my_single_argument)"
   ]
  },
  {
   "cell_type": "code",
   "execution_count": 3,
   "id": "2397c6d4",
   "metadata": {},
   "outputs": [
    {
     "name": "stdout",
     "output_type": "stream",
     "text": [
      "lemons\n"
     ]
    }
   ],
   "source": [
    "# This will work as 'lemons' is the only argument passed into the function\n",
    "i_want_a_single_argument('lemons')"
   ]
  },
  {
   "cell_type": "code",
   "execution_count": 4,
   "id": "62d52351",
   "metadata": {},
   "outputs": [
    {
     "ename": "TypeError",
     "evalue": "i_want_a_single_argument() takes 1 positional argument but 2 were given",
     "output_type": "error",
     "traceback": [
      "\u001b[0;31m---------------------------------------------------------------------------\u001b[0m",
      "\u001b[0;31mTypeError\u001b[0m                                 Traceback (most recent call last)",
      "\u001b[0;32m/var/folders/df/6q_tm6qx2v582_dlhstvjzs00000gn/T/ipykernel_46390/4042656444.py\u001b[0m in \u001b[0;36m<module>\u001b[0;34m\u001b[0m\n\u001b[1;32m      1\u001b[0m \u001b[0;31m# This will fail as 'lemons' and 5 is passed in and the function doesn't expect the 2nd argument\u001b[0m\u001b[0;34m\u001b[0m\u001b[0;34m\u001b[0m\u001b[0;34m\u001b[0m\u001b[0m\n\u001b[0;32m----> 2\u001b[0;31m \u001b[0mi_want_a_single_argument\u001b[0m\u001b[0;34m(\u001b[0m\u001b[0;34m'lemons'\u001b[0m\u001b[0;34m,\u001b[0m\u001b[0;36m5\u001b[0m\u001b[0;34m)\u001b[0m\u001b[0;34m\u001b[0m\u001b[0;34m\u001b[0m\u001b[0m\n\u001b[0m",
      "\u001b[0;31mTypeError\u001b[0m: i_want_a_single_argument() takes 1 positional argument but 2 were given"
     ]
    }
   ],
   "source": [
    "# This will fail as 'lemons' and 5 is passed in and the function doesn't expect the 2nd argument\n",
    "i_want_a_single_argument('lemons',5)"
   ]
  },
  {
   "cell_type": "markdown",
   "id": "dd248e43",
   "metadata": {},
   "source": [
    "#### Learnings at this stage\n",
    "The function signature tells us that 1 argument is permitted and it'll simply print the value back to the stdout. Passing two arguments in will result in a ValueError and will therefore crash the program. \n",
    "\n",
    "#### So is there a mechanism for a function to accept any number of arguments?\n",
    "Well, yes. Of course because we're talking about that now. \n",
    "We use *args and *kwargs\n",
    "\n",
    "\n",
    "I will create a new function, and this function will accept only args for now (the difference will be made clear later). But essentially, by adding args to our function, we enable our function to 'collect' any additional positional (non keyed) arguments. \n",
    "\n",
    "*WARNING*: By enabling this functionality with args, you have no control over what is passed in."
   ]
  },
  {
   "cell_type": "code",
   "execution_count": 9,
   "id": "95851665",
   "metadata": {},
   "outputs": [],
   "source": [
    "def i_will_take_a_single_explicit_argument_but_will_allow_extras(argument_i_declare,*args):\n",
    "    print(argument_i_declare)\n",
    "    print(args)\n",
    "    print(type(args))"
   ]
  },
  {
   "cell_type": "code",
   "execution_count": 10,
   "id": "bb41bc2e",
   "metadata": {},
   "outputs": [
    {
     "name": "stdout",
     "output_type": "stream",
     "text": [
      "lemons\n",
      "(1, 2, 3, 4)\n",
      "<class 'tuple'>\n"
     ]
    }
   ],
   "source": [
    "i_will_take_a_single_explicit_argument_but_will_allow_extras('lemons',1,2,3,4)\n"
   ]
  },
  {
   "cell_type": "markdown",
   "id": "a34d77b9",
   "metadata": {},
   "source": [
    "# And so by taking *args as a parameter, you can see that the function has essentially collected everything else which has been provided to it. \n",
    "\n",
    "This also means that the additional values passed in are passed into a tuple, recognised as 'args' however, these values have no identity outside of the tuple. So this indicates that we're in an almost 'all or nothing' situation with the collected values. \n",
    "The next example will explain why"
   ]
  },
  {
   "cell_type": "code",
   "execution_count": 14,
   "id": "e9578984",
   "metadata": {},
   "outputs": [],
   "source": [
    "def i_will_take_args_now(argument_i_declare, *args):\n",
    "    print(argument_i_declare)\n",
    "    print(args[:-2])"
   ]
  },
  {
   "cell_type": "code",
   "execution_count": 15,
   "id": "3ec82214",
   "metadata": {},
   "outputs": [
    {
     "name": "stdout",
     "output_type": "stream",
     "text": [
      "1\n",
      "(23, 4)\n"
     ]
    }
   ],
   "source": [
    "i_will_take_args_now(1,23,4,56,85)"
   ]
  },
  {
   "cell_type": "markdown",
   "id": "f6669af3",
   "metadata": {},
   "source": [
    "In this example, the tuple has been chopped. But it has been chopped by its position within the collected arguments and, as expected, will behave exactly like passing in a tuple or list (or any iterator).\n",
    "\n",
    "The benefits to this behaviour is that is you do not mind how many arguments your function will require, then you can process everything without requiring any consideration. However, you will more often find instances in which you will want to control the elements which exist in your function. \n",
    "\n",
    "A good example of an \\'args\\' function, would be the summation of values. ie - given n number of arguments, you wish to sum everything. \n",
    "\n",
    "A bad example of an \\'args\\' function would be the desire to control which elements are passed into bespoke procedures. \n"
   ]
  },
  {
   "cell_type": "code",
   "execution_count": 18,
   "id": "25b22c07",
   "metadata": {},
   "outputs": [],
   "source": [
    "def new_func(*args, **kwargs):\n",
    "    print(kwargs.get('howmanylemons') * args)\n",
    "        \n",
    "##### To summarise\n",
    "#*args has collected non keyworded arguments "
   ]
  },
  {
   "cell_type": "code",
   "execution_count": 22,
   "id": "46236c59",
   "metadata": {},
   "outputs": [
    {
     "name": "stdout",
     "output_type": "stream",
     "text": [
      "(34, 34, 34, 34, 34, 34, 34, 34, 34, 34, 34, 34)\n"
     ]
    }
   ],
   "source": [
    "new_func(34, howmanylemons = 12)"
   ]
  },
  {
   "cell_type": "code",
   "execution_count": null,
   "id": "e1ee874e",
   "metadata": {},
   "outputs": [],
   "source": []
  }
 ],
 "metadata": {
  "kernelspec": {
   "display_name": "Python 3 (ipykernel)",
   "language": "python",
   "name": "python3"
  },
  "language_info": {
   "codemirror_mode": {
    "name": "ipython",
    "version": 3
   },
   "file_extension": ".py",
   "mimetype": "text/x-python",
   "name": "python",
   "nbconvert_exporter": "python",
   "pygments_lexer": "ipython3",
   "version": "3.7.13"
  }
 },
 "nbformat": 4,
 "nbformat_minor": 5
}
